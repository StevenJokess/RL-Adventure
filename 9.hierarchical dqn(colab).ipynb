{
  "nbformat": 4,
  "nbformat_minor": 0,
  "metadata": {
    "kernelspec": {
      "name": "python3",
      "display_name": "Python 3"
    },
    "colab": {
      "name": "9.hierarchical dqn.ipynb",
      "provenance": []
    },
    "accelerator": "GPU"
  },
  "cells": [
    {
      "cell_type": "code",
      "metadata": {
        "id": "e_c0eBPDJWLn",
        "outputId": "5068aeb3-0b6a-478b-80e2-fb5ea0e134c4",
        "colab": {
          "base_uri": "https://localhost:8080/"
        }
      },
      "source": [
        "!pip install git+https://github.com/StevenJokess/RL-Adventure\r\n",
        "!git clone https://github.com/StevenJokess/RL-Adventure\r\n",
        "%cd RL-Adventure\r\n",
        "!ls"
      ],
      "execution_count": 1,
      "outputs": [
        {
          "output_type": "stream",
          "text": [
            "Collecting git+https://github.com/StevenJokess/RL-Adventure\n",
            "  Cloning https://github.com/StevenJokess/RL-Adventure to /tmp/pip-req-build-7k8d_c7q\n",
            "  Running command git clone -q https://github.com/StevenJokess/RL-Adventure /tmp/pip-req-build-7k8d_c7q\n",
            "\u001b[31mERROR: Command errored out with exit status 1: python setup.py egg_info Check the logs for full command output.\u001b[0m\n",
            "Cloning into 'RL-Adventure'...\n",
            "remote: Enumerating objects: 10, done.\u001b[K\n",
            "remote: Counting objects: 100% (10/10), done.\u001b[K\n",
            "remote: Compressing objects: 100% (10/10), done.\u001b[K\n",
            "remote: Total 65 (delta 2), reused 0 (delta 0), pack-reused 55\u001b[K\n",
            "Unpacking objects: 100% (65/65), done.\n",
            "/content/RL-Adventure\n",
            "'1.dqn(colab).ipynb'\t      '6.categorical dqn.ipynb'\n",
            " 1.dqn.ipynb\t\t      '7.rainbow dqn.ipynb'\n",
            "'2.double dqn.ipynb'\t      '8.quantile regression dqn.ipynb'\n",
            "'3.dueling dqn(colab).ipynb'  '9.hierarchical dqn.ipynb'\n",
            "'3.dueling dqn.ipynb'\t       common\n",
            "'4.prioritized dqn.ipynb'      README.md\n",
            "'5.noisy dqn.ipynb'\n"
          ],
          "name": "stdout"
        }
      ]
    },
    {
      "cell_type": "code",
      "metadata": {
        "id": "hisB6J79JU-d"
      },
      "source": [
        "import math\n",
        "import random\n",
        "from collections import namedtuple, deque\n",
        "\n",
        "import gym\n",
        "import numpy as np\n",
        "\n",
        "import torch\n",
        "import torch.nn as nn\n",
        "import torch.optim as optim\n",
        "import torch.nn.functional as F\n",
        "import torch.autograd as autograd"
      ],
      "execution_count": 2,
      "outputs": []
    },
    {
      "cell_type": "code",
      "metadata": {
        "id": "lhykDy9DJU-p"
      },
      "source": [
        "from IPython.display import clear_output\n",
        "import matplotlib.pyplot as plt\n",
        "%matplotlib inline"
      ],
      "execution_count": 3,
      "outputs": []
    },
    {
      "cell_type": "code",
      "metadata": {
        "id": "8pzVqL7qJU-p"
      },
      "source": [
        "USE_CUDA = torch.cuda.is_available()\n",
        "Variable = lambda *args, **kwargs: autograd.Variable(*args, **kwargs).cuda() if USE_CUDA else autograd.Variable(*args, **kwargs)"
      ],
      "execution_count": 4,
      "outputs": []
    },
    {
      "cell_type": "code",
      "metadata": {
        "id": "E8gEAw_cJU-q"
      },
      "source": [
        "class StochasticMDP:\n",
        "    def __init__(self):\n",
        "        self.end           = False\n",
        "        self.current_state = 2\n",
        "        self.num_actions   = 2\n",
        "        self.num_states    = 6\n",
        "        self.p_right       = 0.5\n",
        "\n",
        "    def reset(self):\n",
        "        self.end = False\n",
        "        self.current_state = 2\n",
        "        state = np.zeros(self.num_states)\n",
        "        state[self.current_state - 1] = 1.\n",
        "        return state\n",
        "\n",
        "    def step(self, action):\n",
        "        if self.current_state != 1:\n",
        "            if action == 1:\n",
        "                if random.random() < self.p_right and self.current_state < self.num_states:\n",
        "                    self.current_state += 1\n",
        "                else:\n",
        "                    self.current_state -= 1\n",
        "                    \n",
        "            if action == 0:\n",
        "                self.current_state -= 1\n",
        "                \n",
        "            if self.current_state == self.num_states:\n",
        "                self.end = True\n",
        "        \n",
        "        state = np.zeros(self.num_states)\n",
        "        state[self.current_state - 1] = 1.\n",
        "        \n",
        "        if self.current_state == 1:\n",
        "            if self.end:\n",
        "                return state, 1.00, True, {}\n",
        "            else:\n",
        "                return state, 1.00/100.00, True, {}\n",
        "        else:\n",
        "            return state, 0.0, False, {}"
      ],
      "execution_count": 5,
      "outputs": []
    },
    {
      "cell_type": "code",
      "metadata": {
        "id": "f_wreOU5JU-q"
      },
      "source": [
        "class ReplayBuffer(object):\n",
        "    def __init__(self, capacity):\n",
        "        self.capacity = capacity\n",
        "        self.buffer   = deque(maxlen=capacity)\n",
        "    \n",
        "    def push(self, state, action, reward, next_state, done):\n",
        "        state      = np.expand_dims(state, 0)\n",
        "        next_state = np.expand_dims(next_state, 0)\n",
        "        self.buffer.append((state, action, reward, next_state, done))\n",
        "    \n",
        "    def sample(self, batch_size):\n",
        "        state, action, reward, next_state, done = zip(*random.sample(self.buffer, batch_size))\n",
        "        return np.concatenate(state), action, reward, np.concatenate(next_state), done\n",
        "    \n",
        "    def __len__(self):\n",
        "        return len(self.buffer)"
      ],
      "execution_count": 6,
      "outputs": []
    },
    {
      "cell_type": "code",
      "metadata": {
        "id": "vliB43QYJU-r"
      },
      "source": [
        "class Net(nn.Module):\n",
        "    def __init__(self, num_inputs, num_outputs):\n",
        "        super(Net, self).__init__()\n",
        "        \n",
        "        self.layers = nn.Sequential(\n",
        "            nn.Linear(num_inputs, 256),\n",
        "            nn.ReLU(),\n",
        "            nn.Linear(256, num_outputs)\n",
        "        )\n",
        "    \n",
        "    def forward(self, x):\n",
        "        return self.layers(x)\n",
        "    \n",
        "    def act(self, state, epsilon):\n",
        "        if random.random() > epsilon:\n",
        "            state  = torch.FloatTensor(state).unsqueeze(0)\n",
        "            action = self.forward(Variable(state, volatile=True)).max(1)[1]\n",
        "            return action.data[0]\n",
        "        else:\n",
        "            return random.randrange(num_actions)"
      ],
      "execution_count": 7,
      "outputs": []
    },
    {
      "cell_type": "code",
      "metadata": {
        "id": "FT3BZm5RJU-r"
      },
      "source": [
        "env = StochasticMDP()"
      ],
      "execution_count": 8,
      "outputs": []
    },
    {
      "cell_type": "code",
      "metadata": {
        "id": "GB9q6r9sJU-s"
      },
      "source": [
        "num_goals    = env.num_states\n",
        "num_actions  = env.num_actions\n",
        "\n",
        "model        = Net(2*num_goals, num_actions)\n",
        "target_model = Net(2*num_goals, num_actions)\n",
        "\n",
        "meta_model        = Net(num_goals, num_goals)\n",
        "target_meta_model = Net(num_goals, num_goals)\n",
        "\n",
        "if USE_CUDA:\n",
        "    model             = model.cuda()\n",
        "    target_model      = target_model.cuda()\n",
        "    meta_model        = meta_model.cuda()\n",
        "    target_meta_model = target_meta_model.cuda()\n",
        "\n",
        "optimizer      = optim.Adam(model.parameters())\n",
        "meta_optimizer = optim.Adam(meta_model.parameters())\n",
        "\n",
        "replay_buffer      = ReplayBuffer(10000)\n",
        "meta_replay_buffer = ReplayBuffer(10000)"
      ],
      "execution_count": 9,
      "outputs": []
    },
    {
      "cell_type": "code",
      "metadata": {
        "id": "XojWYZbkJU-s"
      },
      "source": [
        "def to_onehot(x):\n",
        "    oh = np.zeros(6)\n",
        "    oh[x - 1] = 1.\n",
        "    return oh"
      ],
      "execution_count": 10,
      "outputs": []
    },
    {
      "cell_type": "code",
      "metadata": {
        "id": "pZn5zOp5JU-s"
      },
      "source": [
        "def update(model, optimizer, replay_buffer, batch_size):\n",
        "    if batch_size > len(replay_buffer):\n",
        "        return\n",
        "    state, action, reward, next_state, done = replay_buffer.sample(batch_size)\n",
        "    \n",
        "    state      = Variable(torch.FloatTensor(state))\n",
        "    next_state = Variable(torch.FloatTensor(next_state), volatile=True)\n",
        "    action     = Variable(torch.LongTensor(action))\n",
        "    reward     = Variable(torch.FloatTensor(reward))\n",
        "    done       = Variable(torch.FloatTensor(done))\n",
        "    \n",
        "    q_value = model(state)\n",
        "    q_value = q_value.gather(1, action.unsqueeze(1)).squeeze(1)\n",
        "    \n",
        "    next_q_value     = model(next_state).max(1)[0]\n",
        "    expected_q_value = reward + 0.99 * next_q_value * (1 - done)\n",
        "   \n",
        "    loss = (q_value - Variable(expected_q_value.data)).pow(2).mean()\n",
        "    \n",
        "    optimizer.zero_grad()\n",
        "    loss.backward()\n",
        "    optimizer.step()"
      ],
      "execution_count": 11,
      "outputs": []
    },
    {
      "cell_type": "code",
      "metadata": {
        "id": "ErY3pJnNJU-t"
      },
      "source": [
        "epsilon_start = 1.0\n",
        "epsilon_final = 0.01\n",
        "epsilon_decay = 500\n",
        "\n",
        "epsilon_by_frame = lambda frame_idx: epsilon_final + (epsilon_start - epsilon_final) * math.exp(-1. * frame_idx / epsilon_decay)"
      ],
      "execution_count": 12,
      "outputs": []
    },
    {
      "cell_type": "code",
      "metadata": {
        "id": "iXgA8eKNJU-u",
        "outputId": "74abd97e-03c9-4d1f-e16f-e4f9e922666e",
        "colab": {
          "base_uri": "https://localhost:8080/",
          "height": 336
        }
      },
      "source": [
        "num_frames = 100000\n",
        "frame_idx  = 1\n",
        "\n",
        "state = env.reset()\n",
        "done = False\n",
        "all_rewards = []\n",
        "episode_reward = 0\n",
        "\n",
        "while frame_idx < num_frames:\n",
        "    goal = meta_model.act(state, epsilon_by_frame(frame_idx))\n",
        "    onehot_goal  = to_onehot(goal)\n",
        "    \n",
        "    meta_state = state\n",
        "    extrinsic_reward = 0\n",
        "    \n",
        "    while not done and goal != np.argmax(state):\n",
        "        goal_state  = np.concatenate([state, onehot_goal])\n",
        "        action = model.act(goal_state, epsilon_by_frame(frame_idx))\n",
        "        next_state, reward, done, _ = env.step(action)\n",
        "\n",
        "        episode_reward   += reward\n",
        "        extrinsic_reward += reward\n",
        "        intrinsic_reward = 1.0 if goal == np.argmax(next_state) else 0.0\n",
        "\n",
        "        replay_buffer.push(goal_state, action, intrinsic_reward, np.concatenate([next_state, onehot_goal]), done)\n",
        "        state = next_state\n",
        "        \n",
        "        update(model, optimizer, replay_buffer, 32)\n",
        "        update(meta_model, meta_optimizer, meta_replay_buffer, 32)\n",
        "        frame_idx += 1\n",
        "        \n",
        "        if frame_idx % 1000 == 0:\n",
        "            clear_output(True)\n",
        "            n = 100 #mean reward of last 100 episodes\n",
        "            plt.figure(figsize=(20,5))\n",
        "            plt.title(frame_idx)\n",
        "            plt.plot([np.mean(all_rewards[i:i + n]) for i in range(0, len(all_rewards), n)])\n",
        "            plt.show()\n",
        "\n",
        "    meta_replay_buffer.push(meta_state, goal, extrinsic_reward, state, done)\n",
        "        \n",
        "    if done:\n",
        "        state = env.reset()\n",
        "        done  = False\n",
        "        all_rewards.append(episode_reward)\n",
        "        episode_reward = 0"
      ],
      "execution_count": null,
      "outputs": [
        {
          "output_type": "display_data",
          "data": {
            "image/png": "[encoded data removed]",
            "text/plain": [
              "<Figure size 1440x360 with 1 Axes>"
            ]
          },
          "metadata": {
            "tags": [],
            "needs_background": "light"
          }
        }
      ]
    },
    {
      "cell_type": "code",
      "metadata": {
        "id": "lotnYcfzJU-v"
      },
      "source": [
        ""
      ],
      "execution_count": null,
      "outputs": []
    }
  ]
}