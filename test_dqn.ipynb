{
  "nbformat": 4,
  "nbformat_minor": 0,
  "metadata": {
    "colab": {
      "name": "test_dqn.ipynb",
      "provenance": [],
      "authorship_tag": "ABX9TyOglIzsQIiUAHOECUTiajmC",
      "include_colab_link": true
    },
    "kernelspec": {
      "name": "python3",
      "display_name": "Python 3"
    },
    "accelerator": "GPU"
  },
  "cells": [
    {
      "cell_type": "markdown",
      "metadata": {
        "id": "view-in-github",
        "colab_type": "text"
      },
      "source": [
        "<a href=\"https://colab.research.google.com/github/StevenJokess/RL-Adventure/blob/master/test_dqn.ipynb\" target=\"_parent\"><img src=\"https://colab.research.google.com/assets/colab-badge.svg\" alt=\"Open In Colab\"/></a>"
      ]
    },
    {
      "cell_type": "code",
      "metadata": {
        "colab": {
          "base_uri": "https://localhost:8080/"
        },
        "id": "K26VCqKx1rhE",
        "outputId": "50edbffb-5b32-4ec3-ef4d-28a9059431d9"
      },
      "source": [
        "!pip install git+https://github.com/thu-ml/tianshou"
      ],
      "execution_count": 1,
      "outputs": [
        {
          "output_type": "stream",
          "text": [
            "Collecting git+https://github.com/thu-ml/tianshou\n",
            "  Cloning https://github.com/thu-ml/tianshou to /tmp/pip-req-build-_d0g_2_6\n",
            "  Running command git clone -q https://github.com/thu-ml/tianshou /tmp/pip-req-build-_d0g_2_6\n",
            "Requirement already satisfied (use --upgrade to upgrade): tianshou==0.3.0 from git+https://github.com/thu-ml/tianshou in /usr/local/lib/python3.6/dist-packages\n",
            "Requirement already satisfied: gym>=0.15.4 in /usr/local/lib/python3.6/dist-packages (from tianshou==0.3.0) (0.17.3)\n",
            "Requirement already satisfied: tqdm in /usr/local/lib/python3.6/dist-packages (from tianshou==0.3.0) (4.41.1)\n",
            "Requirement already satisfied: numpy!=1.16.0 in /usr/local/lib/python3.6/dist-packages (from tianshou==0.3.0) (1.19.5)\n",
            "Requirement already satisfied: tensorboard in /usr/local/lib/python3.6/dist-packages (from tianshou==0.3.0) (2.4.0)\n",
            "Requirement already satisfied: torch>=1.4.0 in /usr/local/lib/python3.6/dist-packages (from tianshou==0.3.0) (1.7.0+cu101)\n",
            "Requirement already satisfied: numba>=0.51.0 in /usr/local/lib/python3.6/dist-packages (from tianshou==0.3.0) (0.52.0)\n",
            "Requirement already satisfied: h5py>=3.1.0 in /usr/local/lib/python3.6/dist-packages (from tianshou==0.3.0) (3.1.0)\n",
            "Requirement already satisfied: scipy in /usr/local/lib/python3.6/dist-packages (from gym>=0.15.4->tianshou==0.3.0) (1.4.1)\n",
            "Requirement already satisfied: pyglet<=1.5.0,>=1.4.0 in /usr/local/lib/python3.6/dist-packages (from gym>=0.15.4->tianshou==0.3.0) (1.5.0)\n",
            "Requirement already satisfied: cloudpickle<1.7.0,>=1.2.0 in /usr/local/lib/python3.6/dist-packages (from gym>=0.15.4->tianshou==0.3.0) (1.3.0)\n",
            "Requirement already satisfied: wheel>=0.26; python_version >= \"3\" in /usr/local/lib/python3.6/dist-packages (from tensorboard->tianshou==0.3.0) (0.36.2)\n",
            "Requirement already satisfied: grpcio>=1.24.3 in /usr/local/lib/python3.6/dist-packages (from tensorboard->tianshou==0.3.0) (1.32.0)\n",
            "Requirement already satisfied: setuptools>=41.0.0 in /usr/local/lib/python3.6/dist-packages (from tensorboard->tianshou==0.3.0) (51.1.1)\n",
            "Requirement already satisfied: google-auth-oauthlib<0.5,>=0.4.1 in /usr/local/lib/python3.6/dist-packages (from tensorboard->tianshou==0.3.0) (0.4.2)\n",
            "Requirement already satisfied: requests<3,>=2.21.0 in /usr/local/lib/python3.6/dist-packages (from tensorboard->tianshou==0.3.0) (2.23.0)\n",
            "Requirement already satisfied: absl-py>=0.4 in /usr/local/lib/python3.6/dist-packages (from tensorboard->tianshou==0.3.0) (0.10.0)\n",
            "Requirement already satisfied: protobuf>=3.6.0 in /usr/local/lib/python3.6/dist-packages (from tensorboard->tianshou==0.3.0) (3.12.4)\n",
            "Requirement already satisfied: werkzeug>=0.11.15 in /usr/local/lib/python3.6/dist-packages (from tensorboard->tianshou==0.3.0) (1.0.1)\n",
            "Requirement already satisfied: google-auth<2,>=1.6.3 in /usr/local/lib/python3.6/dist-packages (from tensorboard->tianshou==0.3.0) (1.17.2)\n",
            "Requirement already satisfied: tensorboard-plugin-wit>=1.6.0 in /usr/local/lib/python3.6/dist-packages (from tensorboard->tianshou==0.3.0) (1.7.0)\n",
            "Requirement already satisfied: six>=1.10.0 in /usr/local/lib/python3.6/dist-packages (from tensorboard->tianshou==0.3.0) (1.15.0)\n",
            "Requirement already satisfied: markdown>=2.6.8 in /usr/local/lib/python3.6/dist-packages (from tensorboard->tianshou==0.3.0) (3.3.3)\n",
            "Requirement already satisfied: future in /usr/local/lib/python3.6/dist-packages (from torch>=1.4.0->tianshou==0.3.0) (0.16.0)\n",
            "Requirement already satisfied: typing-extensions in /usr/local/lib/python3.6/dist-packages (from torch>=1.4.0->tianshou==0.3.0) (3.7.4.3)\n",
            "Requirement already satisfied: dataclasses in /usr/local/lib/python3.6/dist-packages (from torch>=1.4.0->tianshou==0.3.0) (0.8)\n",
            "Requirement already satisfied: llvmlite<0.36,>=0.35.0 in /usr/local/lib/python3.6/dist-packages (from numba>=0.51.0->tianshou==0.3.0) (0.35.0)\n",
            "Requirement already satisfied: cached-property; python_version < \"3.8\" in /usr/local/lib/python3.6/dist-packages (from h5py>=3.1.0->tianshou==0.3.0) (1.5.2)\n",
            "Requirement already satisfied: requests-oauthlib>=0.7.0 in /usr/local/lib/python3.6/dist-packages (from google-auth-oauthlib<0.5,>=0.4.1->tensorboard->tianshou==0.3.0) (1.3.0)\n",
            "Requirement already satisfied: urllib3!=1.25.0,!=1.25.1,<1.26,>=1.21.1 in /usr/local/lib/python3.6/dist-packages (from requests<3,>=2.21.0->tensorboard->tianshou==0.3.0) (1.24.3)\n",
            "Requirement already satisfied: chardet<4,>=3.0.2 in /usr/local/lib/python3.6/dist-packages (from requests<3,>=2.21.0->tensorboard->tianshou==0.3.0) (3.0.4)\n",
            "Requirement already satisfied: idna<3,>=2.5 in /usr/local/lib/python3.6/dist-packages (from requests<3,>=2.21.0->tensorboard->tianshou==0.3.0) (2.10)\n",
            "Requirement already satisfied: certifi>=2017.4.17 in /usr/local/lib/python3.6/dist-packages (from requests<3,>=2.21.0->tensorboard->tianshou==0.3.0) (2020.12.5)\n",
            "Requirement already satisfied: rsa<5,>=3.1.4; python_version >= \"3\" in /usr/local/lib/python3.6/dist-packages (from google-auth<2,>=1.6.3->tensorboard->tianshou==0.3.0) (4.6)\n",
            "Requirement already satisfied: pyasn1-modules>=0.2.1 in /usr/local/lib/python3.6/dist-packages (from google-auth<2,>=1.6.3->tensorboard->tianshou==0.3.0) (0.2.8)\n",
            "Requirement already satisfied: cachetools<5.0,>=2.0.0 in /usr/local/lib/python3.6/dist-packages (from google-auth<2,>=1.6.3->tensorboard->tianshou==0.3.0) (4.2.0)\n",
            "Requirement already satisfied: importlib-metadata; python_version < \"3.8\" in /usr/local/lib/python3.6/dist-packages (from markdown>=2.6.8->tensorboard->tianshou==0.3.0) (3.3.0)\n",
            "Requirement already satisfied: oauthlib>=3.0.0 in /usr/local/lib/python3.6/dist-packages (from requests-oauthlib>=0.7.0->google-auth-oauthlib<0.5,>=0.4.1->tensorboard->tianshou==0.3.0) (3.1.0)\n",
            "Requirement already satisfied: pyasn1>=0.1.3 in /usr/local/lib/python3.6/dist-packages (from rsa<5,>=3.1.4; python_version >= \"3\"->google-auth<2,>=1.6.3->tensorboard->tianshou==0.3.0) (0.4.8)\n",
            "Requirement already satisfied: zipp>=0.5 in /usr/local/lib/python3.6/dist-packages (from importlib-metadata; python_version < \"3.8\"->markdown>=2.6.8->tensorboard->tianshou==0.3.0) (3.4.0)\n",
            "Building wheels for collected packages: tianshou\n",
            "  Building wheel for tianshou (setup.py) ... \u001b[?25l\u001b[?25hdone\n",
            "  Created wheel for tianshou: filename=tianshou-0.3.0-cp36-none-any.whl size=88015 sha256=196fde0c5ddc15ee56b00651e2af5dd0588f9861e37095f2b791b0ea72110f57\n",
            "  Stored in directory: /tmp/pip-ephem-wheel-cache-1zn94fzo/wheels/da/99/6f/185e522cbaaa133463d09640f64f34f04eda13714f3d5ef0a4\n",
            "Successfully built tianshou\n"
          ],
          "name": "stdout"
        }
      ]
    },
    {
      "cell_type": "code",
      "metadata": {
        "id": "gppEFTJB10mP"
      },
      "source": [
        "import gym, torch, numpy as np, torch.nn as nn\r\n",
        "from torch.utils.tensorboard import SummaryWriter\r\n",
        "import tianshou as ts"
      ],
      "execution_count": 2,
      "outputs": []
    },
    {
      "cell_type": "code",
      "metadata": {
        "id": "v0TweT_M14hP"
      },
      "source": [
        "task = 'CartPole-v0'\r\n",
        "lr, epoch, batch_size = 1e-3, 10, 64\r\n",
        "train_num, test_num = 8, 100\r\n",
        "gamma, n_step, target_freq = 0.9, 3, 320\r\n",
        "buffer_size = 20000\r\n",
        "eps_train, eps_test = 0.1, 0.05\r\n",
        "step_per_epoch, collect_per_step = 1000, 10\r\n",
        "writer = SummaryWriter('log/dqn')  # tensorboard is also supported!"
      ],
      "execution_count": 3,
      "outputs": []
    },
    {
      "cell_type": "code",
      "metadata": {
        "id": "gNzQam5r16Vu"
      },
      "source": [
        "# you can also try with SubprocVectorEnv\r\n",
        "train_envs = ts.env.DummyVectorEnv([lambda: gym.make(task) for _ in range(train_num)])\r\n",
        "test_envs = ts.env.DummyVectorEnv([lambda: gym.make(task) for _ in range(test_num)])"
      ],
      "execution_count": 4,
      "outputs": []
    },
    {
      "cell_type": "code",
      "metadata": {
        "id": "wRIV6Snt19cm"
      },
      "source": [
        "from tianshou.utils.net.common import Net\r\n",
        "# you can define other net by following the API:\r\n",
        "# https://tianshou.readthedocs.io/en/latest/tutorials/dqn.html#build-the-network\r\n",
        "env = gym.make(task)\r\n",
        "state_shape = env.observation_space.shape or env.observation_space.n\r\n",
        "action_shape = env.action_space.shape or env.action_space.n\r\n",
        "net = Net(layer_num=2, state_shape=state_shape, action_shape=action_shape)\r\n",
        "optim = torch.optim.Adam(net.parameters(), lr=lr)"
      ],
      "execution_count": 5,
      "outputs": []
    },
    {
      "cell_type": "code",
      "metadata": {
        "id": "Q__Xjrff1_LP"
      },
      "source": [
        "policy = ts.policy.DQNPolicy(net, optim, gamma, n_step, target_update_freq=target_freq)\r\n",
        "train_collector = ts.data.Collector(policy, train_envs, ts.data.ReplayBuffer(buffer_size))\r\n",
        "test_collector = ts.data.Collector(policy, test_envs)"
      ],
      "execution_count": 6,
      "outputs": []
    },
    {
      "cell_type": "code",
      "metadata": {
        "colab": {
          "base_uri": "https://localhost:8080/",
          "height": 218
        },
        "id": "u33XoQD42BpL",
        "outputId": "85e606e9-018e-4526-f352-0000fed06241"
      },
      "source": [
        "result = ts.trainer.offpolicy_trainer(\r\n",
        "    policy, train_collector, test_collector, epoch, step_per_epoch, collect_per_step,\r\n",
        "    test_num, batch_size,\r\n",
        "    train_fn=lambda epoch, env_step: policy.set_eps(eps_train),\r\n",
        "    test_fn=lambda epoch, env_step: policy.set_eps(eps_test),\r\n",
        "    stop_fn=lambda mean_rewards: mean_rewards >= env.spec.reward_threshold,\r\n",
        "    writer=writer, task=task)\r\n",
        "print(f'Finished training! Use {result[\"duration\"]}')"
      ],
      "execution_count": 7,
      "outputs": [
        {
          "output_type": "error",
          "ename": "TypeError",
          "evalue": "ignored",
          "traceback": [
            "\u001b[0;31m---------------------------------------------------------------------------\u001b[0m",
            "\u001b[0;31mTypeError\u001b[0m                                 Traceback (most recent call last)",
            "\u001b[0;32m<ipython-input-7-77c1fbe7e903>\u001b[0m in \u001b[0;36m<module>\u001b[0;34m()\u001b[0m\n\u001b[1;32m      5\u001b[0m     \u001b[0mtest_fn\u001b[0m\u001b[0;34m=\u001b[0m\u001b[0;32mlambda\u001b[0m \u001b[0mepoch\u001b[0m\u001b[0;34m,\u001b[0m \u001b[0menv_step\u001b[0m\u001b[0;34m:\u001b[0m \u001b[0mpolicy\u001b[0m\u001b[0;34m.\u001b[0m\u001b[0mset_eps\u001b[0m\u001b[0;34m(\u001b[0m\u001b[0meps_test\u001b[0m\u001b[0;34m)\u001b[0m\u001b[0;34m,\u001b[0m\u001b[0;34m\u001b[0m\u001b[0;34m\u001b[0m\u001b[0m\n\u001b[1;32m      6\u001b[0m     \u001b[0mstop_fn\u001b[0m\u001b[0;34m=\u001b[0m\u001b[0;32mlambda\u001b[0m \u001b[0mmean_rewards\u001b[0m\u001b[0;34m:\u001b[0m \u001b[0mmean_rewards\u001b[0m \u001b[0;34m>=\u001b[0m \u001b[0menv\u001b[0m\u001b[0;34m.\u001b[0m\u001b[0mspec\u001b[0m\u001b[0;34m.\u001b[0m\u001b[0mreward_threshold\u001b[0m\u001b[0;34m,\u001b[0m\u001b[0;34m\u001b[0m\u001b[0;34m\u001b[0m\u001b[0m\n\u001b[0;32m----> 7\u001b[0;31m     writer=writer, task=task)\n\u001b[0m\u001b[1;32m      8\u001b[0m \u001b[0mprint\u001b[0m\u001b[0;34m(\u001b[0m\u001b[0;34mf'Finished training! Use {result[\"duration\"]}'\u001b[0m\u001b[0;34m)\u001b[0m\u001b[0;34m\u001b[0m\u001b[0;34m\u001b[0m\u001b[0m\n",
            "\u001b[0;31mTypeError\u001b[0m: offpolicy_trainer() got an unexpected keyword argument 'task'"
          ]
        }
      ]
    },
    {
      "cell_type": "code",
      "metadata": {
        "colab": {
          "base_uri": "https://localhost:8080/"
        },
        "id": "8sBFWXqy32Xf",
        "outputId": "ee3013be-24e4-4705-c4a8-4ab1c2cbdcb2"
      },
      "source": [
        "result = ts.trainer.offpolicy_trainer(\r\n",
        "    policy, train_collector, test_collector, epoch, step_per_epoch, collect_per_step,\r\n",
        "    test_num, batch_size,\r\n",
        "    train_fn=lambda epoch, env_step: policy.set_eps(eps_train),\r\n",
        "    test_fn=lambda epoch, env_step: policy.set_eps(eps_test),\r\n",
        "    stop_fn=lambda mean_rewards: mean_rewards >= env.spec.reward_threshold,\r\n",
        "    writer=writer)\r\n",
        "print(f'Finished training! Use {result[\"duration\"]}')"
      ],
      "execution_count": 8,
      "outputs": [
        {
          "output_type": "stream",
          "text": [
            "Epoch #1:  47%|####6     | 469/1000 [00:09<00:10, 49.33it/s, env_step=5874, len=200.00, n/ep=1.00, n/st=200.00, rew=200.00, rew_std=0.00, v/ep=70.66, v/st=14131.04]"
          ],
          "name": "stderr"
        },
        {
          "output_type": "stream",
          "text": [
            "Finished training! Use 9.51s\n"
          ],
          "name": "stdout"
        },
        {
          "output_type": "stream",
          "text": [
            "\n"
          ],
          "name": "stderr"
        }
      ]
    }
  ]
}