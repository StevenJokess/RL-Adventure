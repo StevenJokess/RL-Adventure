{
  "nbformat": 4,
  "nbformat_minor": 0,
  "metadata": {
    "kernelspec": {
      "name": "python3",
      "display_name": "Python 3"
    },
    "colab": {
      "name": "6.categorical dqn.ipynb",
      "provenance": []
    },
    "accelerator": "GPU"
  },
  "cells": [
    {
      "cell_type": "code",
      "metadata": {
        "id": "iqMcRg7bWy_R",
        "outputId": "58e11236-c60b-4c33-f171-07666caeb60f",
        "colab": {
          "base_uri": "https://localhost:8080/"
        }
      },
      "source": [
        "!pip install git+https://github.com/StevenJokess/RL-Adventure\r\n",
        "!git clone https://github.com/StevenJokess/RL-Adventure\r\n",
        "%cd RL-Adventure\r\n",
        "!ls"
      ],
      "execution_count": 1,
      "outputs": [
        {
          "output_type": "stream",
          "text": [
            "Collecting git+https://github.com/StevenJokess/RL-Adventure\n",
            "  Cloning https://github.com/StevenJokess/RL-Adventure to /tmp/pip-req-build-fe72lvh_\n",
            "  Running command git clone -q https://github.com/StevenJokess/RL-Adventure /tmp/pip-req-build-fe72lvh_\n",
            "\u001b[31mERROR: Command errored out with exit status 1: python setup.py egg_info Check the logs for full command output.\u001b[0m\n",
            "Cloning into 'RL-Adventure'...\n",
            "remote: Enumerating objects: 25, done.\u001b[K\n",
            "remote: Counting objects: 100% (25/25), done.\u001b[K\n",
            "remote: Compressing objects: 100% (25/25), done.\u001b[K\n",
            "remote: Total 80 (delta 7), reused 0 (delta 0), pack-reused 55\u001b[K\n",
            "Unpacking objects: 100% (80/80), done.\n",
            "/content/RL-Adventure\n",
            "'1.dqn(colab).ipynb'\t\t  '6.categorical dqn.ipynb'\n",
            " 1.dqn.ipynb\t\t\t  '7.rainbow dqn(colab).ipynb'\n",
            "'2.double dqn.ipynb'\t\t  '7.rainbow dqn.ipynb'\n",
            "'3.dueling dqn(colab).ipynb'\t  '8.quantile regression dqn(colab).ipynb'\n",
            "'3.dueling dqn.ipynb'\t\t  '8.quantile regression dqn.ipynb'\n",
            "'4.prioritized dqn(colab).ipynb'  '9.hierarchical dqn(colab).ipynb'\n",
            "'4.prioritized dqn.ipynb'\t  '9.hierarchical dqn.ipynb'\n",
            "'5.noisy dqn(colab).ipynb'\t   common\n",
            "'5.noisy dqn.ipynb'\t\t   README.md\n"
          ],
          "name": "stdout"
        }
      ]
    },
    {
      "cell_type": "code",
      "metadata": {
        "id": "oNcLsTv9WyIJ"
      },
      "source": [
        "import math, random\n",
        "\n",
        "import gym\n",
        "import numpy as np\n",
        "\n",
        "import torch\n",
        "import torch.nn as nn\n",
        "import torch.optim as optim\n",
        "import torch.autograd as autograd \n",
        "import torch.nn.functional as F\n",
        "\n",
        "from common.replay_buffer import ReplayBuffer"
      ],
      "execution_count": 2,
      "outputs": []
    },
    {
      "cell_type": "code",
      "metadata": {
        "id": "PCAqSfUxWyIU"
      },
      "source": [
        "from IPython.display import clear_output\n",
        "import matplotlib.pyplot as plt\n",
        "%matplotlib inline"
      ],
      "execution_count": 3,
      "outputs": []
    },
    {
      "cell_type": "markdown",
      "metadata": {
        "id": "DmBB_mCdWyIV"
      },
      "source": [
        "<h3>Use Cuda</h3>"
      ]
    },
    {
      "cell_type": "code",
      "metadata": {
        "id": "ASDpcA6OWyIV"
      },
      "source": [
        "USE_CUDA = torch.cuda.is_available()\n",
        "Variable = lambda *args, **kwargs: autograd.Variable(*args, **kwargs).cuda() if USE_CUDA else autograd.Variable(*args, **kwargs)"
      ],
      "execution_count": 4,
      "outputs": []
    },
    {
      "cell_type": "markdown",
      "metadata": {
        "id": "Tgq36IUPWyIW"
      },
      "source": [
        "<h2>Cart Pole Environment</h2>"
      ]
    },
    {
      "cell_type": "code",
      "metadata": {
        "id": "BbANCVWuWyIW"
      },
      "source": [
        "env_id = \"CartPole-v0\"\n",
        "env = gym.make(env_id)"
      ],
      "execution_count": 5,
      "outputs": []
    },
    {
      "cell_type": "markdown",
      "metadata": {
        "id": "ko8rmp5yWyIX"
      },
      "source": [
        "<h3> Noisy Networks for Exploration</h3>"
      ]
    },
    {
      "cell_type": "code",
      "metadata": {
        "id": "LoBifD-pWyIY"
      },
      "source": [
        "class NoisyLinear(nn.Module):\n",
        "    def __init__(self, in_features, out_features, std_init=0.4):\n",
        "        super(NoisyLinear, self).__init__()\n",
        "        \n",
        "        self.in_features  = in_features\n",
        "        self.out_features = out_features\n",
        "        self.std_init     = std_init\n",
        "        \n",
        "        self.weight_mu    = nn.Parameter(torch.FloatTensor(out_features, in_features))\n",
        "        self.weight_sigma = nn.Parameter(torch.FloatTensor(out_features, in_features))\n",
        "        self.register_buffer('weight_epsilon', torch.FloatTensor(out_features, in_features))\n",
        "        \n",
        "        self.bias_mu    = nn.Parameter(torch.FloatTensor(out_features))\n",
        "        self.bias_sigma = nn.Parameter(torch.FloatTensor(out_features))\n",
        "        self.register_buffer('bias_epsilon', torch.FloatTensor(out_features))\n",
        "        \n",
        "        self.reset_parameters()\n",
        "        self.reset_noise()\n",
        "    \n",
        "    def forward(self, x):\n",
        "        if self.training: \n",
        "            weight = self.weight_mu + self.weight_sigma.mul(Variable(self.weight_epsilon))\n",
        "            bias   = self.bias_mu   + self.bias_sigma.mul(Variable(self.bias_epsilon))\n",
        "        else:\n",
        "            weight = self.weight_mu\n",
        "            bias   = self.bias_mu\n",
        "        \n",
        "        return F.linear(x, weight, bias)\n",
        "    \n",
        "    def reset_parameters(self):\n",
        "        mu_range = 1 / math.sqrt(self.weight_mu.size(1))\n",
        "        \n",
        "        self.weight_mu.data.uniform_(-mu_range, mu_range)\n",
        "        self.weight_sigma.data.fill_(self.std_init / math.sqrt(self.weight_sigma.size(1)))\n",
        "        \n",
        "        self.bias_mu.data.uniform_(-mu_range, mu_range)\n",
        "        self.bias_sigma.data.fill_(self.std_init / math.sqrt(self.bias_sigma.size(0)))\n",
        "    \n",
        "    def reset_noise(self):\n",
        "        epsilon_in  = self._scale_noise(self.in_features)\n",
        "        epsilon_out = self._scale_noise(self.out_features)\n",
        "        \n",
        "        self.weight_epsilon.copy_(epsilon_out.ger(epsilon_in))\n",
        "        self.bias_epsilon.copy_(self._scale_noise(self.out_features))\n",
        "    \n",
        "    def _scale_noise(self, size):\n",
        "        x = torch.randn(size)\n",
        "        x = x.sign().mul(x.abs().sqrt())\n",
        "        return x"
      ],
      "execution_count": 6,
      "outputs": []
    },
    {
      "cell_type": "markdown",
      "metadata": {
        "id": "jsg0aqvCWyIZ"
      },
      "source": [
        "<h1>C-51 Algorithm</h1>\n",
        "<h2>A Distributional Perspective on Reinforcement Learning</h2>"
      ]
    },
    {
      "cell_type": "code",
      "metadata": {
        "id": "H1WwLlTBWyIZ"
      },
      "source": [
        "class CategoricalDQN(nn.Module):\n",
        "    def __init__(self, num_inputs, num_actions, num_atoms, Vmin, Vmax):\n",
        "        super(CategoricalDQN, self).__init__()\n",
        "        \n",
        "        self.num_inputs = num_inputs\n",
        "        self.num_actions  = num_actions\n",
        "        self.num_atoms    = num_atoms\n",
        "        self.Vmin         = Vmin\n",
        "        self.Vmax         = Vmax\n",
        "        \n",
        "        self.linear1 = nn.Linear(num_inputs, 128)\n",
        "        self.linear2 = nn.Linear(128, 128)\n",
        "        self.noisy1 = NoisyLinear(128, 512)\n",
        "        self.noisy2 = NoisyLinear(512, self.num_actions * self.num_atoms)\n",
        "        \n",
        "    def forward(self, x):\n",
        "        x = F.relu(self.linear1(x))\n",
        "        x = F.relu(self.linear2(x))\n",
        "        x = F.relu(self.noisy1(x))\n",
        "        x = self.noisy2(x)\n",
        "        x = F.softmax(x.view(-1, self.num_atoms)).view(-1, self.num_actions, self.num_atoms)\n",
        "        return x\n",
        "        \n",
        "    def reset_noise(self):\n",
        "        self.noisy1.reset_noise()\n",
        "        self.noisy2.reset_noise()\n",
        "    \n",
        "    def act(self, state):\n",
        "        state = Variable(torch.FloatTensor(state).unsqueeze(0), volatile=True)\n",
        "        dist = self.forward(state).data.cpu()\n",
        "        dist = dist * torch.linspace(Vmin, Vmax, num_atoms)\n",
        "        action = dist.sum(2).max(1)[1].numpy()[0]\n",
        "        return action"
      ],
      "execution_count": 7,
      "outputs": []
    },
    {
      "cell_type": "code",
      "metadata": {
        "id": "dLWCqI7bWyIa"
      },
      "source": [
        "def projection_distribution(next_state, rewards, dones):\n",
        "    batch_size  = next_state.size(0)\n",
        "    \n",
        "    delta_z = float(Vmax - Vmin) / (num_atoms - 1)\n",
        "    support = torch.linspace(Vmin, Vmax, num_atoms)\n",
        "    \n",
        "    next_dist   = target_model(next_state).data.cpu() * support\n",
        "    next_action = next_dist.sum(2).max(1)[1]\n",
        "    next_action = next_action.unsqueeze(1).unsqueeze(1).expand(next_dist.size(0), 1, next_dist.size(2))\n",
        "    next_dist   = next_dist.gather(1, next_action).squeeze(1)\n",
        "        \n",
        "    rewards = rewards.unsqueeze(1).expand_as(next_dist)\n",
        "    dones   = dones.unsqueeze(1).expand_as(next_dist)\n",
        "    support = support.unsqueeze(0).expand_as(next_dist)\n",
        "    \n",
        "    Tz = rewards + (1 - dones) * 0.99 * support\n",
        "    Tz = Tz.clamp(min=Vmin, max=Vmax)\n",
        "    b  = (Tz - Vmin) / delta_z\n",
        "    l  = b.floor().long()\n",
        "    u  = b.ceil().long()\n",
        "        \n",
        "    offset = torch.linspace(0, (batch_size - 1) * num_atoms, batch_size).long()\\\n",
        "                    .unsqueeze(1).expand(batch_size, num_atoms)\n",
        "\n",
        "    proj_dist = torch.zeros(next_dist.size())    \n",
        "    proj_dist.view(-1).index_add_(0, (l + offset).view(-1), (next_dist * (u.float() - b)).view(-1))\n",
        "    proj_dist.view(-1).index_add_(0, (u + offset).view(-1), (next_dist * (b - l.float())).view(-1))\n",
        "        \n",
        "    return proj_dist"
      ],
      "execution_count": 8,
      "outputs": []
    },
    {
      "cell_type": "code",
      "metadata": {
        "id": "9G9h8udZWyIa"
      },
      "source": [
        "num_atoms = 51\n",
        "Vmin = -10\n",
        "Vmax = 10\n",
        "\n",
        "current_model = CategoricalDQN(env.observation_space.shape[0], env.action_space.n, num_atoms, Vmin, Vmax)\n",
        "target_model  = CategoricalDQN(env.observation_space.shape[0], env.action_space.n, num_atoms, Vmin, Vmax)\n",
        "\n",
        "if USE_CUDA:\n",
        "    current_model = current_model.cuda()\n",
        "    target_model  = target_model.cuda()\n",
        "    \n",
        "optimizer = optim.Adam(current_model.parameters())\n",
        "\n",
        "replay_buffer = ReplayBuffer(10000)"
      ],
      "execution_count": 9,
      "outputs": []
    },
    {
      "cell_type": "markdown",
      "metadata": {
        "id": "nvq6NrZOWyIb"
      },
      "source": [
        "<h3>Synchronize current policy net and target net</h3>"
      ]
    },
    {
      "cell_type": "code",
      "metadata": {
        "id": "ubxnnbIQWyIc"
      },
      "source": [
        "def update_target(current_model, target_model):\n",
        "    target_model.load_state_dict(current_model.state_dict())\n",
        "    \n",
        "update_target(current_model, target_model)"
      ],
      "execution_count": 10,
      "outputs": []
    },
    {
      "cell_type": "markdown",
      "metadata": {
        "id": "D6Jf7xA9WyIc"
      },
      "source": [
        "<h2>Computing Temporal Difference Loss</h2>"
      ]
    },
    {
      "cell_type": "code",
      "metadata": {
        "id": "vIFRrMxVWyIc"
      },
      "source": [
        "def compute_td_loss(batch_size):\n",
        "    state, action, reward, next_state, done = replay_buffer.sample(batch_size) \n",
        "\n",
        "    state      = Variable(torch.FloatTensor(np.float32(state)))\n",
        "    next_state = Variable(torch.FloatTensor(np.float32(next_state)), volatile=True)\n",
        "    action     = Variable(torch.LongTensor(action))\n",
        "    reward     = torch.FloatTensor(reward)\n",
        "    done       = torch.FloatTensor(np.float32(done))\n",
        "\n",
        "    proj_dist = projection_distribution(next_state, reward, done)\n",
        "    \n",
        "    dist = current_model(state)\n",
        "    action = action.unsqueeze(1).unsqueeze(1).expand(batch_size, 1, num_atoms)\n",
        "    dist = dist.gather(1, action).squeeze(1)\n",
        "    dist.data.clamp_(0.01, 0.99)\n",
        "    loss = - (Variable(proj_dist) * dist.log()).sum(1).mean()\n",
        "        \n",
        "    optimizer.zero_grad()\n",
        "    loss.backward()\n",
        "    optimizer.step()\n",
        "    \n",
        "    current_model.reset_noise()\n",
        "    target_model.reset_noise()\n",
        "    \n",
        "    return loss"
      ],
      "execution_count": 11,
      "outputs": []
    },
    {
      "cell_type": "code",
      "metadata": {
        "id": "vAfiK9SmWyId"
      },
      "source": [
        "def plot(frame_idx, rewards, losses):\n",
        "    clear_output(True)\n",
        "    plt.figure(figsize=(20,5))\n",
        "    plt.subplot(131)\n",
        "    plt.title('frame %s. reward: %s' % (frame_idx, np.mean(rewards[-10:])))\n",
        "    plt.plot(rewards)\n",
        "    plt.subplot(132)\n",
        "    plt.title('loss')\n",
        "    plt.plot(losses)\n",
        "    plt.show()"
      ],
      "execution_count": 12,
      "outputs": []
    },
    {
      "cell_type": "markdown",
      "metadata": {
        "id": "NfVvO91lWyId"
      },
      "source": [
        "<h2>Training</h2>"
      ]
    },
    {
      "cell_type": "code",
      "metadata": {
        "id": "hta5Zac_WyIe",
        "outputId": "ea56048b-825c-454b-884f-eb3b9e04cab4",
        "colab": {
          "base_uri": "https://localhost:8080/",
          "height": 287
        }
      },
      "source": [
        "num_frames = 10000\n",
        "batch_size = 32\n",
        "gamma      = 0.99\n",
        "\n",
        "losses = []\n",
        "all_rewards = []\n",
        "episode_reward = 0\n",
        "\n",
        "state = env.reset()\n",
        "for frame_idx in range(1, num_frames + 1):\n",
        "    action = current_model.act(state)\n",
        "    \n",
        "    next_state, reward, done, _ = env.step(action)\n",
        "    replay_buffer.push(state, action, reward, next_state, done)\n",
        "    \n",
        "    state = next_state\n",
        "    episode_reward += reward\n",
        "    \n",
        "    if done:\n",
        "        state = env.reset()\n",
        "        all_rewards.append(episode_reward)\n",
        "        episode_reward = 0\n",
        "        \n",
        "    if len(replay_buffer) > batch_size:\n",
        "        loss = compute_td_loss(batch_size)\n",
        "        losses.append(loss.data[0])\n",
        "        \n",
        "    if frame_idx % 200 == 0:\n",
        "        plot(frame_idx, all_rewards, losses)\n",
        "        \n",
        "    if frame_idx % 100 == 0:\n",
        "        update_target(current_model, target_model)"
      ],
      "execution_count": 13,
      "outputs": [
        {
          "output_type": "stream",
          "text": [
            "/usr/local/lib/python3.6/dist-packages/ipykernel_launcher.py:2: UserWarning: volatile was removed and now has no effect. Use `with torch.no_grad():` instead.\n",
            "  \n",
            "/usr/local/lib/python3.6/dist-packages/ipykernel_launcher.py:21: UserWarning: Implicit dimension choice for softmax has been deprecated. Change the call to include dim=X as an argument.\n"
          ],
          "name": "stderr"
        },
        {
          "output_type": "error",
          "ename": "IndexError",
          "evalue": "ignored",
          "traceback": [
            "\u001b[0;31m---------------------------------------------------------------------------\u001b[0m",
            "\u001b[0;31mIndexError\u001b[0m                                Traceback (most recent call last)",
            "\u001b[0;32m<ipython-input-13-90ee806ff980>\u001b[0m in \u001b[0;36m<module>\u001b[0;34m()\u001b[0m\n\u001b[1;32m     24\u001b[0m     \u001b[0;32mif\u001b[0m \u001b[0mlen\u001b[0m\u001b[0;34m(\u001b[0m\u001b[0mreplay_buffer\u001b[0m\u001b[0;34m)\u001b[0m \u001b[0;34m>\u001b[0m \u001b[0mbatch_size\u001b[0m\u001b[0;34m:\u001b[0m\u001b[0;34m\u001b[0m\u001b[0;34m\u001b[0m\u001b[0m\n\u001b[1;32m     25\u001b[0m         \u001b[0mloss\u001b[0m \u001b[0;34m=\u001b[0m \u001b[0mcompute_td_loss\u001b[0m\u001b[0;34m(\u001b[0m\u001b[0mbatch_size\u001b[0m\u001b[0;34m)\u001b[0m\u001b[0;34m\u001b[0m\u001b[0;34m\u001b[0m\u001b[0m\n\u001b[0;32m---> 26\u001b[0;31m         \u001b[0mlosses\u001b[0m\u001b[0;34m.\u001b[0m\u001b[0mappend\u001b[0m\u001b[0;34m(\u001b[0m\u001b[0mloss\u001b[0m\u001b[0;34m.\u001b[0m\u001b[0mdata\u001b[0m\u001b[0;34m[\u001b[0m\u001b[0;36m0\u001b[0m\u001b[0;34m]\u001b[0m\u001b[0;34m)\u001b[0m\u001b[0;34m\u001b[0m\u001b[0;34m\u001b[0m\u001b[0m\n\u001b[0m\u001b[1;32m     27\u001b[0m \u001b[0;34m\u001b[0m\u001b[0m\n\u001b[1;32m     28\u001b[0m     \u001b[0;32mif\u001b[0m \u001b[0mframe_idx\u001b[0m \u001b[0;34m%\u001b[0m \u001b[0;36m200\u001b[0m \u001b[0;34m==\u001b[0m \u001b[0;36m0\u001b[0m\u001b[0;34m:\u001b[0m\u001b[0;34m\u001b[0m\u001b[0;34m\u001b[0m\u001b[0m\n",
            "\u001b[0;31mIndexError\u001b[0m: invalid index of a 0-dim tensor. Use `tensor.item()` in Python or `tensor.item<T>()` in C++ to convert a 0-dim tensor to a number"
          ]
        }
      ]
    },
    {
      "cell_type": "code",
      "metadata": {
        "id": "cBtOgA_jXvgh",
        "outputId": "d44d9881-d54f-4ecc-bdf1-28bb71d83e31",
        "colab": {
          "base_uri": "https://localhost:8080/",
          "height": 336
        }
      },
      "source": [
        "num_frames = 10000\r\n",
        "batch_size = 32\r\n",
        "gamma      = 0.99\r\n",
        "\r\n",
        "losses = []\r\n",
        "all_rewards = []\r\n",
        "episode_reward = 0\r\n",
        "\r\n",
        "state = env.reset()\r\n",
        "for frame_idx in range(1, num_frames + 1):\r\n",
        "    action = current_model.act(state)\r\n",
        "    \r\n",
        "    next_state, reward, done, _ = env.step(action)\r\n",
        "    replay_buffer.push(state, action, reward, next_state, done)\r\n",
        "    \r\n",
        "    state = next_state\r\n",
        "    episode_reward += reward\r\n",
        "    \r\n",
        "    if done:\r\n",
        "        state = env.reset()\r\n",
        "        all_rewards.append(episode_reward)\r\n",
        "        episode_reward = 0\r\n",
        "        \r\n",
        "    if len(replay_buffer) > batch_size:\r\n",
        "        loss = compute_td_loss(batch_size)\r\n",
        "        losses.append(loss.item())\r\n",
        "        \r\n",
        "    if frame_idx % 200 == 0:\r\n",
        "        plot(frame_idx, all_rewards, losses)\r\n",
        "        \r\n",
        "    if frame_idx % 100 == 0:\r\n",
        "        update_target(current_model, target_model)"
      ],
      "execution_count": 14,
      "outputs": [
        {
          "output_type": "display_data",
          "data": {
            "image/png": "[encoded data removed]",
            "text/plain": [
              "<Figure size 1440x360 with 2 Axes>"
            ]
          },
          "metadata": {
            "tags": [],
            "needs_background": "light"
          }
        }
      ]
    },
    {
      "cell_type": "markdown",
      "metadata": {
        "id": "fY5mMPbKWyIg"
      },
      "source": [
        "<p><hr></p>"
      ]
    },
    {
      "cell_type": "markdown",
      "metadata": {
        "id": "WP7pi3ORWyIg"
      },
      "source": [
        "<h1>Atari Environment</h1>"
      ]
    },
    {
      "cell_type": "code",
      "metadata": {
        "id": "5hX8uEQ2WyIh"
      },
      "source": [
        "from common.wrappers import make_atari, wrap_deepmind, wrap_pytorch"
      ],
      "execution_count": 15,
      "outputs": []
    },
    {
      "cell_type": "code",
      "metadata": {
        "id": "em1LXI_2WyIh"
      },
      "source": [
        "env_id = \"PongNoFrameskip-v4\"\n",
        "env    = make_atari(env_id)\n",
        "env    = wrap_deepmind(env)\n",
        "env    = wrap_pytorch(env)"
      ],
      "execution_count": 16,
      "outputs": []
    },
    {
      "cell_type": "code",
      "metadata": {
        "id": "mEH_gxWhWyIh"
      },
      "source": [
        "class CategoricalCnnDQN(nn.Module):\n",
        "    def __init__(self, input_shape, num_actions, num_atoms, Vmin, Vmax):\n",
        "        super(CategoricalCnnDQN, self).__init__()\n",
        "        \n",
        "        self.input_shape  = input_shape\n",
        "        self.num_actions  = num_actions\n",
        "        self.num_atoms    = num_atoms\n",
        "        self.Vmin         = Vmin\n",
        "        self.Vmax         = Vmax\n",
        "        \n",
        "        self.features = nn.Sequential(\n",
        "            nn.Conv2d(input_shape[0], 32, kernel_size=8, stride=4),\n",
        "            nn.ReLU(),\n",
        "            nn.Conv2d(32, 64, kernel_size=4, stride=2),\n",
        "            nn.ReLU(),\n",
        "            nn.Conv2d(64, 64, kernel_size=3, stride=1),\n",
        "            nn.ReLU()\n",
        "        )\n",
        "        \n",
        "        self.noisy1 = NoisyLinear(self.feature_size(), 512)\n",
        "        self.noisy2 = NoisyLinear(512, self.num_actions * self.num_atoms)\n",
        "        \n",
        "    def forward(self, x):\n",
        "        batch_size = x.size(0)\n",
        "        \n",
        "        x = x / 255.\n",
        "        x = self.features(x)\n",
        "        x = x.view(batch_size, -1)\n",
        "        \n",
        "        x = F.relu(self.noisy1(x))\n",
        "        x = self.noisy2(x)\n",
        "        x = F.softmax(x.view(-1, self.num_atoms)).view(-1, self.num_actions, self.num_atoms)\n",
        "        return x\n",
        "        \n",
        "    def reset_noise(self):\n",
        "        self.noisy1.reset_noise()\n",
        "        self.noisy2.reset_noise()\n",
        "        \n",
        "    def feature_size(self):\n",
        "        return self.features(autograd.Variable(torch.zeros(1, *self.input_shape))).view(1, -1).size(1)\n",
        "    \n",
        "    def act(self, state):\n",
        "        state = Variable(torch.FloatTensor(np.float32(state)).unsqueeze(0), volatile=True)\n",
        "        dist = self.forward(state).data.cpu()\n",
        "        dist = dist * torch.linspace(Vmin, Vmax, num_atoms)\n",
        "        action = dist.sum(2).max(1)[1].numpy()[0]\n",
        "        return action"
      ],
      "execution_count": 17,
      "outputs": []
    },
    {
      "cell_type": "code",
      "metadata": {
        "id": "nogx_ZH_WyIi"
      },
      "source": [
        "num_atoms = 51\n",
        "Vmin = -10\n",
        "Vmax = 10\n",
        "\n",
        "current_model = CategoricalCnnDQN(env.observation_space.shape, env.action_space.n, num_atoms, Vmin, Vmax)\n",
        "target_model  = CategoricalCnnDQN(env.observation_space.shape, env.action_space.n, num_atoms, Vmin, Vmax)\n",
        "\n",
        "if USE_CUDA:\n",
        "    current_model = current_model.cuda()\n",
        "    target_model  = target_model.cuda()\n",
        "    \n",
        "optimizer = optim.Adam(current_model.parameters(), 0.0001)\n",
        "update_target(current_model, target_model)\n",
        "\n",
        "replay_initial = 10000\n",
        "replay_buffer  = ReplayBuffer(100000)"
      ],
      "execution_count": 18,
      "outputs": []
    },
    {
      "cell_type": "code",
      "metadata": {
        "id": "91ShwG44WyIj",
        "outputId": "1a93d0f1-7c02-4c69-8928-417914116025",
        "colab": {
          "base_uri": "https://localhost:8080/",
          "height": 336
        }
      },
      "source": [
        "num_frames = 1000000\n",
        "batch_size = 32\n",
        "gamma      = 0.99\n",
        "\n",
        "losses = []\n",
        "all_rewards = []\n",
        "episode_reward = 0\n",
        "\n",
        "state = env.reset()\n",
        "for frame_idx in range(1, num_frames + 1):\n",
        "    action = current_model.act(state)\n",
        "    \n",
        "    next_state, reward, done, _ = env.step(action)\n",
        "    replay_buffer.push(state, action, reward, next_state, done)\n",
        "    \n",
        "    state = next_state\n",
        "    episode_reward += reward\n",
        "    \n",
        "    if done:\n",
        "        state = env.reset()\n",
        "        all_rewards.append(episode_reward)\n",
        "        episode_reward = 0\n",
        "        \n",
        "    if len(replay_buffer) > replay_initial:\n",
        "        loss = compute_td_loss(batch_size)\n",
        "        losses.append(loss.item())\n",
        "        \n",
        "    if frame_idx % 10000 == 0:\n",
        "        plot(frame_idx, all_rewards, losses)\n",
        "        \n",
        "    if frame_idx % 1000 == 0:\n",
        "        update_target(current_model, target_model)"
      ],
      "execution_count": null,
      "outputs": [
        {
          "output_type": "display_data",
          "data": {
            "image/png": "[encoded data removed]",
            "text/plain": [
              "<Figure size 1440x360 with 2 Axes>"
            ]
          },
          "metadata": {
            "tags": [],
            "needs_background": "light"
          }
        }
      ]
    },
    {
      "cell_type": "code",
      "metadata": {
        "id": "sAjmjIa_WyIk"
      },
      "source": [
        ""
      ],
      "execution_count": null,
      "outputs": []
    }
  ]
}